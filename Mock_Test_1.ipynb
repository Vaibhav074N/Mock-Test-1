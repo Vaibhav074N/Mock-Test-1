{
  "nbformat": 4,
  "nbformat_minor": 0,
  "metadata": {
    "colab": {
      "provenance": [],
      "authorship_tag": "ABX9TyPR74OOQlcF7AhaK855tDBZ",
      "include_colab_link": true
    },
    "kernelspec": {
      "name": "python3",
      "display_name": "Python 3"
    },
    "language_info": {
      "name": "python"
    }
  },
  "cells": [
    {
      "cell_type": "markdown",
      "metadata": {
        "id": "view-in-github",
        "colab_type": "text"
      },
      "source": [
        "<a href=\"https://colab.research.google.com/github/Vaibhav074N/Mock-Test-1/blob/main/Mock_Test_1.ipynb\" target=\"_parent\"><img src=\"https://colab.research.google.com/assets/colab-badge.svg\" alt=\"Open In Colab\"/></a>"
      ]
    },
    {
      "cell_type": "code",
      "source": [
        "def moveZeroes(nums):\n",
        "    n = len(nums)\n",
        "    i = 0\n",
        "\n",
        "    for j in range(n):\n",
        "        if nums[j] != 0:\n",
        "            nums[i] = nums[j]\n",
        "            i += 1\n",
        "\n",
        "    while i < n:\n",
        "        nums[i] = 0\n",
        "        i += 1\n",
        "\n",
        "nums = [0, 1, 0, 3, 12]\n",
        "moveZeroes(nums)\n",
        "print(\"Output:\", nums)"
      ],
      "metadata": {
        "colab": {
          "base_uri": "https://localhost:8080/"
        },
        "id": "_jCImY_j-gz3",
        "outputId": "8e7d204d-66c5-4410-d511-4e9aa6663ad3"
      },
      "execution_count": 10,
      "outputs": [
        {
          "output_type": "stream",
          "name": "stdout",
          "text": [
            "Output: [1, 3, 12, 0, 0]\n"
          ]
        }
      ]
    },
    {
      "cell_type": "code",
      "source": [],
      "metadata": {
        "id": "Do0y5YUX_YHi"
      },
      "execution_count": null,
      "outputs": []
    }
  ]
}